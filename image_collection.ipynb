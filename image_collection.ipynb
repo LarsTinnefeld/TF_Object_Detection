{
 "metadata": {
  "language_info": {
   "codemirror_mode": {
    "name": "ipython",
    "version": 3
   },
   "file_extension": ".py",
   "mimetype": "text/x-python",
   "name": "python",
   "nbconvert_exporter": "python",
   "pygments_lexer": "ipython3",
   "version": "3.8.3"
  },
  "orig_nbformat": 2,
  "kernelspec": {
   "name": "python383jvsc74a57bd0183bbf6827d058c2a2fb0f4acdc0420849dda2b4380af0e437e38c64d798d8b7",
   "display_name": "Python 3.8.3 64-bit (conda)"
  }
 },
 "nbformat": 4,
 "nbformat_minor": 2,
 "cells": [
  {
   "cell_type": "code",
   "execution_count": 4,
   "metadata": {},
   "outputs": [
    {
     "output_type": "stream",
     "name": "stdout",
     "text": [
      "Requirement already satisfied: opencv-python in c:\\users\\admin\\anaconda3\\lib\\site-packages (4.4.0.44)\nRequirement already satisfied: numpy>=1.17.3 in c:\\users\\admin\\anaconda3\\lib\\site-packages (from opencv-python) (1.19.2)\n"
     ]
    }
   ],
   "source": [
    "!pip install opencv-python"
   ]
  },
  {
   "source": [
    "## Importing libraries"
   ],
   "cell_type": "markdown",
   "metadata": {}
  },
  {
   "cell_type": "code",
   "execution_count": 5,
   "metadata": {},
   "outputs": [],
   "source": [
    "import cv2\n",
    "import uuid\n",
    "import os\n",
    "import time"
   ]
  },
  {
   "source": [
    "## Define images to collect"
   ],
   "cell_type": "markdown",
   "metadata": {}
  },
  {
   "cell_type": "code",
   "execution_count": 14,
   "metadata": {},
   "outputs": [],
   "source": [
    "labels = ['thumbsup', 'thumbsdown', 'victory', 'livelong']\n",
    "number_images = 5"
   ]
  },
  {
   "source": [
    "## Setup folders"
   ],
   "cell_type": "markdown",
   "metadata": {}
  },
  {
   "cell_type": "code",
   "execution_count": 15,
   "metadata": {},
   "outputs": [
    {
     "output_type": "stream",
     "name": "stdout",
     "text": [
      "Tensorflow\\workspace\\images\\collectedimages\n"
     ]
    }
   ],
   "source": [
    "IMAGES_PATH = os.path.join('Tensorflow', 'workspace', 'images', 'collectedimages')\n",
    "print(IMAGES_PATH)"
   ]
  },
  {
   "cell_type": "code",
   "execution_count": 16,
   "metadata": {},
   "outputs": [
    {
     "output_type": "execute_result",
     "data": {
      "text/plain": [
       "'nt'"
      ]
     },
     "metadata": {},
     "execution_count": 16
    }
   ],
   "source": [
    "os.name"
   ]
  },
  {
   "cell_type": "code",
   "execution_count": 17,
   "metadata": {},
   "outputs": [],
   "source": [
    "if not os.path.exists(IMAGES_PATH):\n",
    "    if os.name == 'posix':\n",
    "        !mkdir -p {IMAGES_PATH}\n",
    "    if os.name == 'nt':\n",
    "        !mkdir {IMAGES_PATH}\n",
    "for label in labels:\n",
    "    path=os.path.join(IMAGES_PATH, label)\n",
    "    if not os.path.exists(path):\n",
    "        !mkdir {path}"
   ]
  },
  {
   "source": [
    "## Capture images"
   ],
   "cell_type": "markdown",
   "metadata": {}
  },
  {
   "cell_type": "code",
   "execution_count": 19,
   "metadata": {},
   "outputs": [
    {
     "output_type": "stream",
     "name": "stdout",
     "text": [
      "Collecting images for thumbsup\n",
      "Collecting image 0\n",
      "Collecting image 1\n",
      "Collecting image 2\n",
      "Collecting image 3\n",
      "Collecting image 4\n",
      "Collecting images for thumbsdown\n",
      "Collecting image 0\n",
      "Collecting image 1\n",
      "Collecting image 2\n",
      "Collecting image 3\n",
      "Collecting image 4\n",
      "Collecting images for victory\n",
      "Collecting image 0\n",
      "Collecting image 1\n",
      "Collecting image 2\n",
      "Collecting image 3\n",
      "Collecting image 4\n",
      "Collecting images for livelong\n",
      "Collecting image 0\n",
      "Collecting image 1\n",
      "Collecting image 2\n",
      "Collecting image 3\n",
      "Collecting image 4\n"
     ]
    }
   ],
   "source": [
    "for label in labels:\n",
    "    cap = cv2.VideoCapture(0) # Connects to the standard webcam or capture device\n",
    "    print('Collecting images for {}'.format(label))\n",
    "    time.sleep(5)\n",
    "    for image_num in range(number_images):\n",
    "        print('Collecting image {}'.format(image_num))\n",
    "        ret, frame = cap.read()\n",
    "        image_name = os.path.join(IMAGES_PATH, label, label+'.'+'{}.jpg'.format(str(uuid.uuid1())))\n",
    "        cv2.imwrite(image_name, frame)\n",
    "        cv2.imshow('frame', frame)\n",
    "        time.sleep(2)\n",
    "\n",
    "        if cv2.waitKey(1) & 0xFF == ord('q'):\n",
    "            break\n",
    "cap.release()\n",
    "cv2.destroyAllWindows()"
   ]
  },
  {
   "source": [
    "## Label images"
   ],
   "cell_type": "markdown",
   "metadata": {}
  },
  {
   "cell_type": "code",
   "execution_count": 2,
   "metadata": {},
   "outputs": [
    {
     "output_type": "stream",
     "name": "stdout",
     "text": [
      "Collecting pyqt5\n",
      "  Downloading PyQt5-5.15.4-cp36.cp37.cp38.cp39-none-win_amd64.whl (6.8 MB)\n",
      "Collecting lxml\n",
      "  Downloading lxml-4.6.3-cp38-cp38-win_amd64.whl (3.5 MB)\n",
      "Collecting PyQt5-sip<13,>=12.8\n",
      "  Downloading PyQt5_sip-12.8.1-cp38-cp38-win_amd64.whl (63 kB)\n",
      "Collecting PyQt5-Qt5>=5.15\n",
      "  Downloading PyQt5_Qt5-5.15.2-py3-none-win_amd64.whl (50.1 MB)\n",
      "Installing collected packages: PyQt5-sip, PyQt5-Qt5, pyqt5, lxmlERROR: spyder 4.1.4 requires pyqtwebengine<5.13; python_version >= \"3\", which is not installed.\n",
      "ERROR: spyder 4.1.4 has requirement pyqt5<5.13; python_version >= \"3\", but you'll have pyqt5 5.15.4 which is incompatible.\n",
      "  WARNING: The scripts pylupdate5.exe, pyrcc5.exe and pyuic5.exe are installed in 'C:\\Users\\Admin\\anaconda3\\Scripts' which is not on PATH.\n",
      "  Consider adding this directory to PATH or, if you prefer to suppress this warning, use --no-warn-script-location.\n",
      "\n",
      "  Attempting uninstall: lxml\n",
      "    Found existing installation: lxml 4.5.2\n",
      "    Uninstalling lxml-4.5.2:\n",
      "      Successfully uninstalled lxml-4.5.2\n",
      "Successfully installed PyQt5-Qt5-5.15.2 PyQt5-sip-12.8.1 lxml-4.6.3 pyqt5-5.15.4\n"
     ]
    }
   ],
   "source": [
    "!pip install --upgrade pyqt5 lxml"
   ]
  },
  {
   "cell_type": "code",
   "execution_count": 4,
   "metadata": {},
   "outputs": [],
   "source": [
    "LABELIMG_PATH = os.path.join('Tensorflow', 'labelimg')"
   ]
  },
  {
   "cell_type": "code",
   "execution_count": 5,
   "metadata": {},
   "outputs": [
    {
     "output_type": "stream",
     "name": "stderr",
     "text": [
      "Cloning into 'Tensorflow\\labelimg'...\n"
     ]
    }
   ],
   "source": [
    "if not os.path.exists(LABELIMG_PATH):\n",
    "    !mkdir {LABELIMG_PATH}\n",
    "    !git clone https://github.com/tzutalin/labelImg {LABELIMG_PATH}"
   ]
  },
  {
   "cell_type": "code",
   "execution_count": 8,
   "metadata": {},
   "outputs": [],
   "source": [
    "if os.name == 'posix':\n",
    "    !cd {LABELIMG_PATH} && make qt5py3\n",
    "if os.name == 'nt':\n",
    "    !cd {LABELIMG_PATH} && pyrcc5 -o libs/resources.py resources.qrc"
   ]
  },
  {
   "cell_type": "code",
   "execution_count": 9,
   "metadata": {},
   "outputs": [
    {
     "output_type": "stream",
     "name": "stdout",
     "text": [
      "Image:C:\\Users\\Admin\\OneDrive\\Documents\\GitHub\\TF_Object_Detection\\Tensorflow\\workspace\\images\\collectedimages\\livelong\\livelong.54d106ee-a6ea-11eb-8a2f-b88a60abea27.jpg -> Annotation:C:/Users/Admin/OneDrive/Documents/GitHub/TF_Object_Detection/Tensorflow/workspace/images/collectedimages/livelong/livelong.54d106ee-a6ea-11eb-8a2f-b88a60abea27.xml\n",
      "Cancel creation.\n",
      "Cancel creation.\n",
      "Image:C:\\Users\\Admin\\OneDrive\\Documents\\GitHub\\TF_Object_Detection\\Tensorflow\\workspace\\images\\collectedimages\\livelong\\livelong.525fccbc-a6ea-11eb-bd56-b88a60abea27.jpg -> Annotation:C:/Users/Admin/OneDrive/Documents/GitHub/TF_Object_Detection/Tensorflow/workspace/images/collectedimages/livelong/livelong.525fccbc-a6ea-11eb-bd56-b88a60abea27.xml\n",
      "Image:C:\\Users\\Admin\\OneDrive\\Documents\\GitHub\\TF_Object_Detection\\Tensorflow\\workspace\\images\\collectedimages\\livelong\\livelong.560ab56c-a6ea-11eb-87a3-b88a60abea27.jpg -> Annotation:C:/Users/Admin/OneDrive/Documents/GitHub/TF_Object_Detection/Tensorflow/workspace/images/collectedimages/livelong/livelong.560ab56c-a6ea-11eb-87a3-b88a60abea27.xml\n",
      "Image:C:\\Users\\Admin\\OneDrive\\Documents\\GitHub\\TF_Object_Detection\\Tensorflow\\workspace\\images\\collectedimages\\livelong\\livelong.51253f15-a6ea-11eb-84cb-b88a60abea27.jpg -> Annotation:C:/Users/Admin/OneDrive/Documents/GitHub/TF_Object_Detection/Tensorflow/workspace/images/collectedimages/livelong/livelong.51253f15-a6ea-11eb-84cb-b88a60abea27.xml\n",
      "Image:C:\\Users\\Admin\\OneDrive\\Documents\\GitHub\\TF_Object_Detection\\Tensorflow\\workspace\\images\\collectedimages\\livelong\\livelong.53993947-a6ea-11eb-acf3-b88a60abea27.jpg -> Annotation:C:/Users/Admin/OneDrive/Documents/GitHub/TF_Object_Detection/Tensorflow/workspace/images/collectedimages/livelong/livelong.53993947-a6ea-11eb-acf3-b88a60abea27.xml\n",
      "Image:C:\\Users\\Admin\\OneDrive\\Documents\\GitHub\\TF_Object_Detection\\Tensorflow\\workspace\\images\\collectedimages\\livelong\\livelong.53993947-a6ea-11eb-acf3-b88a60abea27.jpg -> Annotation:C:/Users/Admin/OneDrive/Documents/GitHub/TF_Object_Detection/Tensorflow/workspace/images/collectedimages/livelong/livelong.53993947-a6ea-11eb-acf3-b88a60abea27.xml\n",
      "labelImg.py:949: DeprecationWarning: an integer is required (got type float).  Implicit conversion to integers using __int__ is deprecated, and may be removed in a future version of Python.\n",
      "  bar.setValue(bar.value() + bar.singleStep() * units)\n"
     ]
    }
   ],
   "source": [
    "!cd {LABELIMG_PATH} && python labelImg.py"
   ]
  },
  {
   "cell_type": "code",
   "execution_count": null,
   "metadata": {},
   "outputs": [],
   "source": []
  }
 ]
}